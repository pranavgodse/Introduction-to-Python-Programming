{
 "cells": [
  {
   "cell_type": "markdown",
   "id": "a1cb43b3",
   "metadata": {},
   "source": [
    "# ITP_Mini_Project_solved_Pranav_Godse"
   ]
  },
  {
   "cell_type": "code",
   "execution_count": 1,
   "id": "65a16e22",
   "metadata": {},
   "outputs": [],
   "source": [
    "shipments = {\n",
    "    101 : [1, 3, '14-03-2020', '25-03-2020','Area1','Area6', 'Delivered',198],\n",
    "    102 : [4, 1, '18-06-2020', '09-07-2020','Area2','Area4', 'Delivered',275],\n",
    "     103 : [2, 3, '01-12-2020', 'Null','Area5','Area1', 'In-Transit',200],\n",
    "    104 : [1, 5, '23-06-2020', '25-06-2020','Area1','Area4', 'Delivered',314],\n",
    "     105 : [3, 4, '29-08-2020', '10-09-2020','Area5','Area3', 'Delivered',275],\n",
    "    106 : [5, 2, '28-06-2020', 'Null','Area3','Area1', 'In-Transit',270],\n",
    "}"
   ]
  },
  {
   "cell_type": "markdown",
   "id": "9c2a83b5",
   "metadata": {},
   "source": [
    "Q1. Create a Dictionary of lists to store the information of shipments given in the table"
   ]
  },
  {
   "cell_type": "code",
   "execution_count": 2,
   "id": "ae9bf438",
   "metadata": {},
   "outputs": [
    {
     "name": "stdout",
     "output_type": "stream",
     "text": [
      "Shipment dictionary:\n",
      "{101: [1, 3, '14-03-2020', '25-03-2020', 'Area1', 'Area6', 'Delivered', 198], 102: [4, 1, '18-06-2020', '09-07-2020', 'Area2', 'Area4', 'Delivered', 275], 103: [2, 3, '01-12-2020', 'Null', 'Area5', 'Area1', 'In-Transit', 200], 104: [1, 5, '23-06-2020', '25-06-2020', 'Area1', 'Area4', 'Delivered', 314], 105: [3, 4, '29-08-2020', '10-09-2020', 'Area5', 'Area3', 'Delivered', 275], 106: [5, 2, '28-06-2020', 'Null', 'Area3', 'Area1', 'In-Transit', 270]}\n"
     ]
    }
   ],
   "source": [
    "print(\"Shipment dictionary:\")\n",
    "print(shipments)"
   ]
  },
  {
   "cell_type": "markdown",
   "id": "49cfa068",
   "metadata": {},
   "source": [
    "Q2. Create a Dictionary of to store the information of clients given in the table"
   ]
  },
  {
   "cell_type": "code",
   "execution_count": 3,
   "id": "e93d7b58",
   "metadata": {},
   "outputs": [
    {
     "name": "stdout",
     "output_type": "stream",
     "text": [
      "Client dictionary:\n",
      "{1: 'Phillip', 2: 'Omega III', 3: 'Ramya', 4: 'Romesh', 5: 'John'}\n"
     ]
    }
   ],
   "source": [
    "client = {\n",
    "    1:\"Phillip\",\n",
    "     2:\"Omega III\",\n",
    "     3:\"Ramya\",\n",
    "     4:\"Romesh\",\n",
    "     5:\"John\"}\n",
    "\n",
    "print(\"Client dictionary:\")\n",
    "print(client)"
   ]
  },
  {
   "cell_type": "markdown",
   "id": "0242d400",
   "metadata": {},
   "source": [
    "Q3. Write a code to replace client’s id with their respective name in shipment dictionary using a loop and dictionary comprehension"
   ]
  },
  {
   "cell_type": "code",
   "execution_count": 4,
   "id": "0ba0c0a0",
   "metadata": {},
   "outputs": [
    {
     "name": "stdout",
     "output_type": "stream",
     "text": [
      "Updated shipment dictionary:\n",
      "{101: ['Phillip', 'Ramya', '14-03-2020', '25-03-2020', 'Area1', 'Area6', 'Delivered', 198], 102: ['Romesh', 'Phillip', '18-06-2020', '09-07-2020', 'Area2', 'Area4', 'Delivered', 275], 103: ['Omega III', 'Ramya', '01-12-2020', 'Null', 'Area5', 'Area1', 'In-Transit', 200], 104: ['Phillip', 'John', '23-06-2020', '25-06-2020', 'Area1', 'Area4', 'Delivered', 314], 105: ['Ramya', 'Romesh', '29-08-2020', '10-09-2020', 'Area5', 'Area3', 'Delivered', 275], 106: ['John', 'Omega III', '28-06-2020', 'Null', 'Area3', 'Area1', 'In-Transit', 270]}\n"
     ]
    }
   ],
   "source": [
    "shipments = {key: [client[x] if (idx == 0 or idx == 1) else x for (idx ,x) in enumerate(value)] for key,value in shipments.items() }\n",
    "print(\"Updated shipment dictionary:\")\n",
    "print(shipments)"
   ]
  },
  {
   "cell_type": "markdown",
   "id": "2b7cb215",
   "metadata": {},
   "source": [
    "Q4. Print all shipment details that are sent by Phillip"
   ]
  },
  {
   "cell_type": "code",
   "execution_count": 5,
   "id": "c7ed6cde",
   "metadata": {},
   "outputs": [
    {
     "name": "stdout",
     "output_type": "stream",
     "text": [
      "\n",
      "------------------------Answer - 4 result-------------------------------------------\n",
      "All shipments where sender is Phillip\n",
      "Shipment Id: 101\n",
      "['Phillip', 'Ramya', '14-03-2020', '25-03-2020', 'Area1', 'Area6', 'Delivered', 198]\n",
      "Shipment Id: 104\n",
      "['Phillip', 'John', '23-06-2020', '25-06-2020', 'Area1', 'Area4', 'Delivered', 314]\n"
     ]
    }
   ],
   "source": [
    "print(\"\\n------------------------Answer - 4 result-------------------------------------------\")\n",
    "# iterate over the shipment key and values\n",
    "print(\"All shipments where sender is Phillip\")\n",
    "for key, value in shipments.items():\n",
    "    if value[0] == 'Phillip': # check if sender is phillip\n",
    "        print(f\"Shipment Id: {key}\\n{value}\")\n"
   ]
  },
  {
   "cell_type": "markdown",
   "id": "7f196c00",
   "metadata": {},
   "source": [
    "Q5. Print all shipment details that are received by Ramya"
   ]
  },
  {
   "cell_type": "code",
   "execution_count": 6,
   "id": "0754df4b",
   "metadata": {},
   "outputs": [
    {
     "name": "stdout",
     "output_type": "stream",
     "text": [
      "\n",
      "------------------------Answer - 5 result-------------------------------------------\n",
      "All shipments where reciever is Ramya\n",
      "Shipment Id: 101\n",
      "['Phillip', 'Ramya', '14-03-2020', '25-03-2020', 'Area1', 'Area6', 'Delivered', 198]\n",
      "Shipment Id: 103\n",
      "['Omega III', 'Ramya', '01-12-2020', 'Null', 'Area5', 'Area1', 'In-Transit', 200]\n"
     ]
    }
   ],
   "source": [
    "print(\"\\n------------------------Answer - 5 result-------------------------------------------\")\n",
    "print(\"All shipments where reciever is Ramya\")\n",
    "# iterate over the shipment key and values\n",
    "for key, value in shipments.items():\n",
    "    if value[1] == 'Ramya': # check if the reciever is Ramya\n",
    "        print(f\"Shipment Id: {key}\\n{value}\")"
   ]
  },
  {
   "cell_type": "code",
   "execution_count": 7,
   "id": "7c642f76",
   "metadata": {},
   "outputs": [
    {
     "name": "stdout",
     "output_type": "stream",
     "text": [
      "\n",
      "------------------------Answer - 6 result-------------------------------------------\n",
      "All shipments where delivery staus is In-Transit\n",
      "['Omega III', 'Ramya', '01-12-2020', 'Null', 'Area5', 'Area1', 'In-Transit', 200]\n",
      "['John', 'Omega III', '28-06-2020', 'Null', 'Area3', 'Area1', 'In-Transit', 270]\n"
     ]
    }
   ],
   "source": [
    "print(\"\\n------------------------Answer - 6 result-------------------------------------------\")\n",
    "print(\"All shipments where delivery staus is In-Transit\")\n",
    "# iterate over the shipment key and values\n",
    "for key, value in shipments.items():\n",
    "    if value[-2] == 'In-Transit': # check if the shipment is In transit\n",
    "        print(value)"
   ]
  },
  {
   "cell_type": "code",
   "execution_count": 8,
   "id": "80cf878c",
   "metadata": {},
   "outputs": [
    {
     "name": "stdout",
     "output_type": "stream",
     "text": [
      "\n",
      "------------------------Answer - 6 result-------------------------------------------\n",
      "All shipments where delivery staus is In-Transit\n",
      "['Omega III', 'Ramya', '01-12-2020', 'Null', 'Area5', 'Area1', 'In-Transit', 200]\n",
      "['John', 'Omega III', '28-06-2020', 'Null', 'Area3', 'Area1', 'In-Transit', 270]\n"
     ]
    }
   ],
   "source": [
    "print(\"\\n------------------------Answer - 6 result-------------------------------------------\")\n",
    "print(\"All shipments where delivery staus is In-Transit\")\n",
    "# iterate over the shipment key and values\n",
    "for key, value in shipments.items():\n",
    "    if value[-2] == 'In-Transit': # check if the shipment is In transit\n",
    "        print(value)"
   ]
  },
  {
   "cell_type": "markdown",
   "id": "f7e63794",
   "metadata": {},
   "source": [
    "Q7. Print all shipments which are delivered within 7 days of courier Start date"
   ]
  },
  {
   "cell_type": "code",
   "execution_count": 9,
   "id": "812271d1",
   "metadata": {},
   "outputs": [
    {
     "name": "stdout",
     "output_type": "stream",
     "text": [
      "\n",
      "------------------------Answer - 7 result-------------------------------------------\n",
      "All shipments where deliverys were done within 7 days\n",
      "104 ['Phillip', 'John', '23-06-2020', '25-06-2020', 'Area1', 'Area4', 'Delivered', 314]\n"
     ]
    }
   ],
   "source": [
    "print(\"\\n------------------------Answer - 7 result-------------------------------------------\")\n",
    "print(\"All shipments where deliverys were done within 7 days\")\n",
    "# Import the library to perform the answer\n",
    "from datetime import datetime\n",
    "\n",
    "# iterate over the shipment keys and values\n",
    "for key, value in shipments.items():\n",
    "    if value[3] == 'Null': # check if any shipment is not delivered by checking the delivery date\n",
    "        continue\n",
    "        \n",
    "    date1 = datetime.strptime(value[2] , '%d-%m-%Y') # convert the string to the date\n",
    "    date2 = datetime.strptime(value[3] , '%d-%m-%Y') # convert the delivery string to date \n",
    "    if (date2 - date1).days <= 7 : # check if difference between the delivery and the shipment date is less than 7\n",
    "        print(key, value)"
   ]
  },
  {
   "cell_type": "markdown",
   "id": "c77bd8e4",
   "metadata": {},
   "source": [
    "Q8. Print all shipments which are delivered after 15 days of courier start date or not yet been delivered."
   ]
  },
  {
   "cell_type": "code",
   "execution_count": 11,
   "id": "8e15494f",
   "metadata": {},
   "outputs": [
    {
     "name": "stdout",
     "output_type": "stream",
     "text": [
      "\n",
      "------------------------Answer - 8 result-------------------------------------------\n",
      "All shipments where deliverys were done After 15 days or are In-Transit\n",
      "102 ['Romesh', 'Phillip', '18-06-2020', '09-07-2020', 'Area2', 'Area4', 'Delivered', 275]\n",
      "103 ['Omega III', 'Ramya', '01-12-2020', 'Null', 'Area5', 'Area1', 'In-Transit', 200]\n",
      "106 ['John', 'Omega III', '28-06-2020', 'Null', 'Area3', 'Area1', 'In-Transit', 270]\n"
     ]
    }
   ],
   "source": [
    "print(\"\\n------------------------Answer - 8 result-------------------------------------------\")\n",
    "print(\"All shipments where deliverys were done After 15 days or are In-Transit\")\n",
    "# Import the library to complete the task\n",
    "from datetime import datetime\n",
    "\n",
    "# iterate over the shipment keys and values\n",
    "for key, value in shipments.items():\n",
    "    if value[3] == 'Null' and value[-2] == 'In-Transit': # check if any shipment is not delivered by checking the delivery date\n",
    "        # print the shipment if it is in transit\n",
    "        print(key, value)\n",
    "        continue\n",
    "        \n",
    "    date1 = datetime.strptime(value[2] , '%d-%m-%Y') # convert the string to the date\n",
    "    date2 = datetime.strptime(value[3] , '%d-%m-%Y') # convert the delivery string to date \n",
    "    if (date2 - date1).days > 15 : # check if difference between the delivery and the shipment date is greater than 15\n",
    "        print(key, value)"
   ]
  },
  {
   "cell_type": "markdown",
   "id": "f5b49d85",
   "metadata": {},
   "source": [
    "Q 9. Write a function find_all_routes to display all possible routes from senders location to receivers location given in the dictionary for each shipment."
   ]
  },
  {
   "cell_type": "code",
   "execution_count": 12,
   "id": "df3e3560",
   "metadata": {},
   "outputs": [
    {
     "name": "stdout",
     "output_type": "stream",
     "text": [
      "\n",
      "------------------------Answer - 9 result-------------------------------------------\n",
      "All the possible routes between each sender and reciever from shipment dictionary:\n",
      "Shipment 101\n",
      "All possible route(s) between sender' address: Area1 and reciever's address: Area6 is/are:\n",
      "1-6\n",
      "\n",
      "Shipment 102\n",
      "All possible route(s) between sender' address: Area2 and reciever's address: Area4 is/are:\n",
      "2-3-4\n",
      "2-4\n",
      "\n",
      "Shipment 103\n",
      "All possible route(s) between sender' address: Area5 and reciever's address: Area1 is/are:\n",
      "5-4-2-1\n",
      "5-4-3-2-1\n",
      "\n",
      "Shipment 104\n",
      "All possible route(s) between sender' address: Area1 and reciever's address: Area4 is/are:\n",
      "1-2-3-4\n",
      "1-2-4\n",
      "\n",
      "Shipment 105\n",
      "All possible route(s) between sender' address: Area5 and reciever's address: Area3 is/are:\n",
      "5-4-2-3\n",
      "5-4-3\n",
      "\n",
      "Shipment 106\n",
      "All possible route(s) between sender' address: Area3 and reciever's address: Area1 is/are:\n",
      "3-2-1\n",
      "3-4-2-1\n",
      "\n"
     ]
    }
   ],
   "source": [
    "print(\"\\n------------------------Answer - 9 result-------------------------------------------\")\n",
    "print(\"All the possible routes between each sender and reciever from shipment dictionary:\")\n",
    "def possible_routes(arr, source, dest, visited, path):\n",
    "    '''This method takes the adjacency list and prints all the possible path between the source and the destination'''\n",
    "    # print the path if reached destination\n",
    "    if source == dest:\n",
    "        print(path)\n",
    "        return\n",
    "    # set the node source visited\n",
    "    visited[source-1] = True\n",
    "    for i, j in enumerate(arr[source-1]):\n",
    "        # Check for every possible path from node source\n",
    "        if visited[i] == False and j:\n",
    "            # if The node i is not explored and there is a direct route from source to node i \n",
    "            # then explore that path with the node i\n",
    "            possible_routes(arr, i+1, dest, visited, path+\"-\"+str(i+1))\n",
    "    visited[source-1] = False\n",
    "\n",
    "def helper(arr,A, B):\n",
    "    '''This is an helper function to possible routes'''\n",
    "    visited = [0 for i in range(len(arr))] # create a list that will keep track of all the nodes visited\n",
    "    path = str(A)\n",
    "    possible_routes(arr, A, B, visited, path)\n",
    "    \n",
    "def find_all_routes(shipments = shipments):\n",
    "    # create an adjacency matrix from the daigram in the assignment\n",
    "    arr = [\n",
    "            [0,1,0,0,0,1],\n",
    "            [1,0,1,1,0,0],\n",
    "            [0,1,0,1,0,0],\n",
    "            [0,1,1,0,1,0],\n",
    "            [0,0,0,1,0,0],\n",
    "            [1,0,0,0,0,0],\n",
    "          ]\n",
    "    \n",
    "    for key, values in shipments.items():\n",
    "        #print(values[4][-1])\n",
    "        # fetch the sender and the reciver location\n",
    "        sender_location = values[4]\n",
    "        reciever_location = values[5]\n",
    "        # fetch the numbers from the areas\n",
    "        A = int(sender_location[-1])\n",
    "        B = int(reciever_location[-1])\n",
    "        print(f\"Shipment {key}\")\n",
    "        print(f\"All possible route(s) between sender' address: {sender_location} and reciever's address: {reciever_location} is/are:\")\n",
    "        # print the routes\n",
    "        helper(arr,A, B)\n",
    "        print()\n",
    "        \n",
    "find_all_routes()"
   ]
  }
 ],
 "metadata": {
  "kernelspec": {
   "display_name": "Python 3",
   "language": "python",
   "name": "python3"
  },
  "language_info": {
   "codemirror_mode": {
    "name": "ipython",
    "version": 3
   },
   "file_extension": ".py",
   "mimetype": "text/x-python",
   "name": "python",
   "nbconvert_exporter": "python",
   "pygments_lexer": "ipython3",
   "version": "3.8.8"
  }
 },
 "nbformat": 4,
 "nbformat_minor": 5
}
