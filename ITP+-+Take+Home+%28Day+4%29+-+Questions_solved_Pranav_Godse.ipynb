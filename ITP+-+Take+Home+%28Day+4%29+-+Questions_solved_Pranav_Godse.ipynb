{
 "cells": [
  {
   "cell_type": "markdown",
   "metadata": {},
   "source": [
    "<table align=\"center\" width=100%>\n",
    "    <tr>\n",
    "        <td width=\"15%\">\n",
    "            <img src=\"homework.png\">\n",
    "        </td>\n",
    "        <td>\n",
    "            <div align=\"center\">\n",
    "                <font color=\"#21618C\" size=8px>\n",
    "                    <b> Take-Home <br>(Day 4)\n",
    "                    </b>\n",
    "                </font>\n",
    "            </div>\n",
    "        </td>\n",
    "    </tr>\n",
    "</table>"
   ]
  },
  {
   "cell_type": "markdown",
   "metadata": {},
   "source": [
    "### Let's begin with some hands-on practice exercises"
   ]
  },
  {
   "cell_type": "markdown",
   "metadata": {},
   "source": [
    "<table align=\"left\">\n",
    "    <tr>\n",
    "        <td width=\"6%\">\n",
    "            <img src=\"question_icon.png\">\n",
    "        </td>\n",
    "        <td>\n",
    "            <div align=\"left\", style=\"font-size:120%\">\n",
    "                <font color=\"#21618C\">\n",
    "                    <b>1. A list of words is given. Convert the words into uppercase (use lambda and map functions)</b>\n",
    "                </font>\n",
    "            </div>\n",
    "        </td>\n",
    "    </tr>\n",
    "</table>"
   ]
  },
  {
   "cell_type": "markdown",
   "metadata": {},
   "source": [
    "<b>lsbool = ['True','FALse','tRUe','tRue','False','faLse','True']</b><br>\n",
    "<b>Output: ['TRUE', 'FALSE', 'TRUE', 'TRUE', 'FALSE', 'FALSE', 'TRUE']</b>"
   ]
  },
  {
   "cell_type": "code",
   "execution_count": 77,
   "metadata": {},
   "outputs": [
    {
     "data": {
      "text/plain": [
       "['TRUE', 'FALSE', 'TRUE', 'TRUE', 'FALSE', 'FALSE', 'TRUE']"
      ]
     },
     "execution_count": 77,
     "metadata": {},
     "output_type": "execute_result"
    }
   ],
   "source": [
    "lsbool = ['True','FALse','tRUe','tRue','False','faLse','True']\n",
    "l = list(map(lambda x:x.upper(),lsbool))\n",
    "l"
   ]
  },
  {
   "cell_type": "markdown",
   "metadata": {},
   "source": [
    "<table align=\"left\">\n",
    "    <tr>\n",
    "        <td width=\"6%\">\n",
    "            <img src=\"question_icon.png\">\n",
    "        </td>\n",
    "        <td>\n",
    "            <div align=\"left\", style=\"font-size:120%\">\n",
    "                <font color=\"#21618C\">\n",
    "                    <b>2. Write a function to print the height of students in the class (here count of students is not fixed)</b> \n",
    "                </font>\n",
    "            </div>\n",
    "        </td>\n",
    "    </tr>\n",
    "</table>"
   ]
  },
  {
   "cell_type": "code",
   "execution_count": 78,
   "metadata": {},
   "outputs": [
    {
     "data": {
      "text/plain": [
       "[167, 172, 175, 182, 166, 162, 169, 177, 184, 186, 164]"
      ]
     },
     "execution_count": 78,
     "metadata": {},
     "output_type": "execute_result"
    }
   ],
   "source": [
    "def height(*args):\n",
    "    a=[]\n",
    "    for i in args:\n",
    "        a.append(i)\n",
    "    return a\n",
    "\n",
    "height(167,172,175,182,166,162,169,177,184,186,164)"
   ]
  },
  {
   "cell_type": "markdown",
   "metadata": {},
   "source": [
    "<table align=\"left\">\n",
    "    <tr>\n",
    "        <td width=\"6%\">\n",
    "            <img src=\"question_icon.png\">\n",
    "        </td>\n",
    "        <td>\n",
    "            <div align=\"left\", style=\"font-size:120%\">\n",
    "                <font color=\"#21618C\">\n",
    "                    <b>3. Create a dictionary containing four lambda functions square, cube, squareroot, multiply by 2.</b>\n",
    "                    <br><br>\n",
    "                    <b>E.g. dict = {'Square': function for squaring, 'Cube': function for cube, 'Squareroot': function for squareroot, 'Double': function for double} and so on </b>\n",
    "                    <br><br>\n",
    "                    <b>Pass the values (input from the user) to the functions in the dictionary respectively. Then add the outputs of each function and print it.</b>\n",
    "                </font>\n",
    "            </div>\n",
    "        </td>\n",
    "    </tr>\n",
    "</table>"
   ]
  },
  {
   "cell_type": "code",
   "execution_count": 79,
   "metadata": {},
   "outputs": [
    {
     "name": "stdout",
     "output_type": "stream",
     "text": [
      "90.0\n"
     ]
    }
   ],
   "source": [
    "def sum_dict(n):\n",
    "    d = { 'Square': lambda a : a**2, \n",
    "         'Cube': lambda a : a**3, \n",
    "         'Squareroot': lambda a : a**(1/2), \n",
    "         'Double': lambda a : a*2}\n",
    "    sum = 0\n",
    "    for key in d.keys():\n",
    "        sum += d[key](n)\n",
    "    return sum\n",
    "    \n",
    "print(sum_dict(4))"
   ]
  },
  {
   "cell_type": "markdown",
   "metadata": {},
   "source": [
    "<table align=\"left\">\n",
    "    <tr>\n",
    "        <td width=\"6%\">\n",
    "            <img src=\"question_icon.png\">\n",
    "        </td>\n",
    "        <td>\n",
    "            <div align=\"left\", style=\"font-size:120%\">\n",
    "                <font color=\"#21618C\">\n",
    "                    <b>4. A list of words is given. Define a function to find the words from the list that have their second character in uppercase</b>\n",
    "                </font>\n",
    "            </div>\n",
    "        </td>\n",
    "    </tr>\n",
    "</table>"
   ]
  },
  {
   "cell_type": "markdown",
   "metadata": {},
   "source": [
    "<b>ls = ['hello', 'Dear', 'hOw', 'ARe', 'You']</b><br>\n",
    "<b>Output: ['hOw', 'ARe']</b>"
   ]
  },
  {
   "cell_type": "code",
   "execution_count": 80,
   "metadata": {},
   "outputs": [
    {
     "name": "stdout",
     "output_type": "stream",
     "text": [
      "Output: ['hOw', 'ARe']\n"
     ]
    }
   ],
   "source": [
    "def sec_char_upper(n):\n",
    "    lst = []\n",
    "    for i in n:\n",
    "        if i[1].isupper():\n",
    "            lst.append(i)\n",
    "    return lst\n",
    "ls =['hello', 'Dear', 'hOw', 'ARe', 'You']\n",
    "\n",
    "print('Output:',sec_char_upper(ls))"
   ]
  },
  {
   "cell_type": "markdown",
   "metadata": {},
   "source": [
    "<table align=\"left\">\n",
    "    <tr>\n",
    "        <td width=\"6%\">\n",
    "            <img src=\"question_icon.png\">\n",
    "        </td>\n",
    "        <td>\n",
    "            <div align=\"left\", style=\"font-size:120%\">\n",
    "                <font color=\"#21618C\">\n",
    "                    <b>5. Define a function to filter the marks from the tuple \"tmarks\" that are greater than 40 and print corresponding names from the \"tnames\" tuple</b>\n",
    "                </font>\n",
    "            </div>\n",
    "        </td>\n",
    "    </tr>\n",
    "</table>"
   ]
  },
  {
   "cell_type": "markdown",
   "metadata": {},
   "source": [
    "<b>tnames = ('John','Sharon','Jack','Annie')</b><br>\n",
    "<b>tmarks = (32,50,75,12)</b>"
   ]
  },
  {
   "cell_type": "code",
   "execution_count": 81,
   "metadata": {},
   "outputs": [
    {
     "data": {
      "text/plain": [
       "['Sharon', 50, 'Jack', 75]"
      ]
     },
     "execution_count": 81,
     "metadata": {},
     "output_type": "execute_result"
    }
   ],
   "source": [
    "tnames = ('John','Sharon','Jack','Annie')\n",
    "tmarks = (32,50,75,12)\n",
    "\n",
    "def filter_marks(names,marks):\n",
    "    result = []\n",
    "    for i, mark in enumerate(marks):\n",
    "        if (mark > 40):\n",
    "            result.append(names[i])\n",
    "            result.append(marks[i])\n",
    "    return result\n",
    "\n",
    "filter_marks(tnames,tmarks)"
   ]
  },
  {
   "cell_type": "markdown",
   "metadata": {},
   "source": [
    "<table align=\"left\">\n",
    "    <tr>\n",
    "        <td width=\"6%\">\n",
    "            <img src=\"question_icon.png\">\n",
    "        </td>\n",
    "        <td>\n",
    "            <div align=\"left\", style=\"font-size:120%\">\n",
    "                <font color=\"#21618C\">\n",
    "                    <b> 6. A dictionary of names and their weights on earth is given. Find how much they will weigh on the moon. (use map and lambda functions)</b><br> \n",
    "                </font>\n",
    "            </div>\n",
    "        </td>\n",
    "    </tr>\n",
    "</table>"
   ]
  },
  {
   "cell_type": "markdown",
   "metadata": {},
   "source": [
    "**Weight of people in kg**\n",
    "WeightOnEarth = {'John':45, 'Shelly':65, 'Marry':35}        \n",
    "\n",
    "**Gravitational force on the Moon**\n",
    "GMoon = 1.622                                              \n",
    "\n",
    "**Gravitational force on the Earth**\n",
    "GEarth = 9.81                                              \n",
    "\n",
    "**Output:** \n",
    "Weight on Moon:  {'John': 7.44, 'Shelly': 10.75, 'Marry': 5.79}"
   ]
  },
  {
   "cell_type": "code",
   "execution_count": 82,
   "metadata": {},
   "outputs": [
    {
     "name": "stdout",
     "output_type": "stream",
     "text": [
      "Output: Weight on Moon: {'John': 7.44, 'Shelly': 10.75, 'Marry': 5.79}\n"
     ]
    }
   ],
   "source": [
    "Weight_on_Earth = {'John':45, 'Shelly':65, 'Marry':35}\n",
    "GMoon = 1.622\n",
    "GEarth = 9.81\n",
    "print('Output: Weight on Moon:',dict(map(lambda x : (x, round((Weight_on_Earth[x]/GEarth)*GMoon, 2)), Weight_on_Earth)))"
   ]
  },
  {
   "cell_type": "markdown",
   "metadata": {},
   "source": [
    "<table align=\"left\">\n",
    "    <tr>\n",
    "        <td width=\"6%\">\n",
    "            <img src=\"question_icon.png\">\n",
    "        </td>\n",
    "        <td>\n",
    "            <div align=\"left\", style=\"font-size:120%\">\n",
    "                <font color=\"#21618C\">\n",
    "                    <b> 7. A list containing multiple lists is given. Convert each inner list into sets and find intersection of all the sets (use reduce function)</b>\n",
    "                </font>\n",
    "            </div>\n",
    "        </td>\n",
    "    </tr>\n",
    "</table>"
   ]
  },
  {
   "cell_type": "markdown",
   "metadata": {},
   "source": [
    "<b>given_sets = [[1, 2, 3, 4, 8], [2, 3, 8, 5, 6], [8, 4, 5, 3, 7], [6, 9, 8, 3], [9, 12, 3, 7, 6, 8, 4, 6, 21, 1, 6]]</b><br>\n",
    "<b>Output: {8, 3}</b>"
   ]
  },
  {
   "cell_type": "code",
   "execution_count": 83,
   "metadata": {},
   "outputs": [
    {
     "name": "stdout",
     "output_type": "stream",
     "text": [
      "Output: {8, 3}\n"
     ]
    }
   ],
   "source": [
    "given_sets = [[1, 2, 3, 4, 8], [2, 3, 8, 5, 6], [8, 4, 5, 3, 7], [6, 9, 8, 3], [9, 12, 3, 7, 6, 8, 4, 6, 21, 1, 6]]\n",
    "\n",
    "result = set(given_sets[0]).intersection(*given_sets[1:])\n",
    "\n",
    "print('Output:',result)"
   ]
  },
  {
   "cell_type": "markdown",
   "metadata": {},
   "source": [
    "<table align=\"left\">\n",
    "    <tr>\n",
    "        <td width=\"6%\">\n",
    "            <img src=\"question_icon.png\">\n",
    "        </td>\n",
    "        <td>\n",
    "            <div align=\"left\", style=\"font-size:120%\">\n",
    "                <font color=\"#21618C\"> \n",
    "                    <b> 8. Write a function to store the price of different products in the supermarket (number of products is not fixed)</b>\n",
    "                </font>\n",
    "            </div>\n",
    "        </td>\n",
    "    </tr>\n",
    "</table>"
   ]
  },
  {
   "cell_type": "code",
   "execution_count": 1,
   "metadata": {},
   "outputs": [
    {
     "data": {
      "text/plain": [
       "[45, 76, 192, 59, 112, 137, 164, 84, 156, 178, 132]"
      ]
     },
     "execution_count": 1,
     "metadata": {},
     "output_type": "execute_result"
    }
   ],
   "source": [
    "def product_price(*args):\n",
    "    n=[]\n",
    "    for i in args:\n",
    "        n.append(i)\n",
    "    return n\n",
    "\n",
    "product_price(45,76,192,59,112,137,164,84,156,178,132)"
   ]
  },
  {
   "cell_type": "markdown",
   "metadata": {},
   "source": [
    "<table align=\"left\">\n",
    "    <tr>\n",
    "        <td width=\"6%\">\n",
    "            <img src=\"question_icon.png\">\n",
    "        </td>\n",
    "        <td>\n",
    "            <div align=\"left\", style=\"font-size:120%\">\n",
    "                <font color=\"#21618C\">\n",
    "                    <b>9. Define a function to multiply two global variables, 16 and 12</b>  \n",
    "                </font>\n",
    "            </div>\n",
    "        </td>\n",
    "    </tr>\n",
    "</table>"
   ]
  },
  {
   "cell_type": "code",
   "execution_count": 84,
   "metadata": {},
   "outputs": [
    {
     "name": "stdout",
     "output_type": "stream",
     "text": [
      "Multiplication: 192\n"
     ]
    }
   ],
   "source": [
    "a  = 5\n",
    "b =  6\n",
    "\n",
    "global a\n",
    "global b\n",
    "def mult(a,b):\n",
    "    return a*b\n",
    "\n",
    "print('Multiplication:',mult(16,12))"
   ]
  },
  {
   "cell_type": "markdown",
   "metadata": {},
   "source": [
    "<table align=\"left\">\n",
    "    <tr>\n",
    "        <td width=\"6%\">\n",
    "            <img src=\"question_icon.png\">\n",
    "        </td>\n",
    "        <td>\n",
    "            <div align=\"left\", style=\"font-size:120%\">\n",
    "                <font color=\"#21618C\">\n",
    "                    <b> 10. Find the cumulative average of the list [9,8,7,6,5] using accumulate() and lambda function</b><br>\n",
    "                </font>\n",
    "            </div>\n",
    "        </td>\n",
    "    </tr>\n",
    "</table>"
   ]
  },
  {
   "cell_type": "markdown",
   "metadata": {},
   "source": [
    "<b>Input list: [9,8,7,6,5]</b>"
   ]
  },
  {
   "cell_type": "code",
   "execution_count": 2,
   "metadata": {},
   "outputs": [
    {
     "data": {
      "text/plain": [
       "[9, 8.5, 7.75, 6.875, 5.9375]"
      ]
     },
     "execution_count": 2,
     "metadata": {},
     "output_type": "execute_result"
    }
   ],
   "source": [
    "Input_list = [9,8,7,6,5]\n",
    "\n",
    "\n",
    "from itertools import accumulate\n",
    "Input_list = [9,8,7,6,5]\n",
    "f = lambda x,y:(x+y)/2\n",
    "list(accumulate(Input_list,f))"
   ]
  }
 ],
 "metadata": {
  "kernelspec": {
   "display_name": "Python 3",
   "language": "python",
   "name": "python3"
  },
  "language_info": {
   "codemirror_mode": {
    "name": "ipython",
    "version": 3
   },
   "file_extension": ".py",
   "mimetype": "text/x-python",
   "name": "python",
   "nbconvert_exporter": "python",
   "pygments_lexer": "ipython3",
   "version": "3.8.8"
  }
 },
 "nbformat": 4,
 "nbformat_minor": 2
}
